{
 "cells": [
  {
   "cell_type": "markdown",
   "metadata": {},
   "source": [
    "# Jupyter notebook for testing and breaking things"
   ]
  },
  {
   "cell_type": "code",
   "execution_count": 1,
   "metadata": {},
   "outputs": [],
   "source": [
    "import os\n",
    "import json\n",
    "import natsort\n",
    "from collections import OrderedDict"
   ]
  },
  {
   "cell_type": "code",
   "execution_count": 2,
   "metadata": {},
   "outputs": [],
   "source": [
    "# hardcoding in path for testing\n",
    "def get_people():\n",
    "    filepath = '/home/osboxes/Code/forks/rse-skills-graph/people.json' \n",
    "    return get_file_contents(filepath)\n",
    "\n",
    "# thanks to Colin Morris for adding this code originally\n",
    "def get_skills_list():\n",
    "    skills_list = {}\n",
    "    json_results = get_people()\n",
    "    for supervisor, data in json_results.items():\n",
    "        for section in data:\n",
    "            for item in json_results[str(supervisor)][section]:\n",
    "                if item not in skills_list:\n",
    "                    skills_list[item] = 1;\n",
    "                else:\n",
    "                    skills_list[item] = skills_list[item] +1;\n",
    "\n",
    "    skills_list_new = OrderedDict(natsort.natsorted(skills_list.items()))\n",
    "    return skills_list_new\n",
    "\n",
    "\n",
    "def get_file_contents(filename):\n",
    "    data = None\n",
    "\n",
    "    try:\n",
    "        fp = open(filename, 'rb')\n",
    "        try:\n",
    "            contents = fp.read()\n",
    "            data = json.loads(contents)\n",
    "        finally:\n",
    "            fp.close()\n",
    "    except IOError:\n",
    "        print('Could not open JSON file:' + filename, file=sys.stderr)\n",
    "        sys.exit(1)\n",
    "\n",
    "    return data"
   ]
  },
  {
   "cell_type": "code",
   "execution_count": 3,
   "metadata": {},
   "outputs": [
    {
     "data": {
      "text/plain": [
       "OrderedDict([('ARC', 3),\n",
       "             ('CIS', 1),\n",
       "             ('Cloud', 2),\n",
       "             ('Early 90s britpop', 1),\n",
       "             ('HPC', 1),\n",
       "             ('Linux', 4),\n",
       "             ('Machine learning', 2),\n",
       "             ('Natural language processing', 1),\n",
       "             ('Perl', 1),\n",
       "             ('Python', 3),\n",
       "             ('R', 1),\n",
       "             ('Software carpentry', 1),\n",
       "             ('The 1970s', 1),\n",
       "             ('Trains', 1),\n",
       "             ('Web dev', 1),\n",
       "             ('Web stuff', 1),\n",
       "             ('git', 5),\n",
       "             ('subversion', 3),\n",
       "             ('sysadmin', 1)])"
      ]
     },
     "execution_count": 3,
     "metadata": {},
     "output_type": "execute_result"
    }
   ],
   "source": [
    "get_skills_list()"
   ]
  },
  {
   "cell_type": "code",
   "execution_count": 7,
   "metadata": {},
   "outputs": [],
   "source": [
    "import sys\n",
    "\n",
    "__file__ = 'rse-skills-graph'"
   ]
  },
  {
   "cell_type": "code",
   "execution_count": 8,
   "metadata": {},
   "outputs": [
    {
     "name": "stderr",
     "output_type": "stream",
     "text": [
      "PATH: /home/osboxes/anaconda3/envs/rse-graph/bin:/usr/local/go/bin:/home/osboxes/anaconda3/condabin:/usr/local/sbin:/usr/local/bin:/usr/sbin:/usr/bin:/sbin:/bin:/usr/games:/usr/local/games:/snap/bin:/home/osboxes/go/bin:/usr/local/bin:/usr/local/bin\n",
      "GV_FILE_PATH: /home/osboxes/Code/forks/rse-skills-graph/scrapbook/static/images/\n"
     ]
    }
   ],
   "source": [
    "os.environ['PATH'] = os.environ['PATH'] + ':/usr/local/bin'\n",
    "os.environ['GV_FILE_PATH'] = os.path.abspath(os.path.join(os.path.dirname(__file__), 'static/images/')) + '/'\n",
    "\n",
    "print('PATH: ' + os.environ['PATH'], file=sys.stderr)\n",
    "print('GV_FILE_PATH: ' + os.environ['GV_FILE_PATH'], file=sys.stderr)"
   ]
  },
  {
   "cell_type": "code",
   "execution_count": 9,
   "metadata": {},
   "outputs": [],
   "source": [
    "import urllib"
   ]
  },
  {
   "cell_type": "code",
   "execution_count": 10,
   "metadata": {},
   "outputs": [],
   "source": [
    "def get_titles(topic):\n",
    "    \n",
    "    url = 'https://en.wikipedia.org/w/api.php'\n",
    "    values = {\n",
    "        'action' : 'query',\n",
    "        'list' : 'search',\n",
    "        'srwhat' : 'text',\n",
    "        'srsearch' : topic.encode('utf8'),\n",
    "        'format' : 'json',\n",
    "        'srlimit' : '40'\n",
    "    }\n",
    "\n",
    "    data = urllib.parse.urlencode(values)\n",
    "    print(data)\n",
    "    data = data.encode('utf-8') # necessary for python 3\n",
    "    print(data)\n",
    "    \n",
    "    # build wikipedia request from data values\n",
    "    request = urllib.request.Request(url, data)\n",
    "    # example full request \n",
    "    # https://en.wikipedia.org/w/api.php?action=query&list=search&srwhat=text&srsearch=Linux&format=json&srlimit=40\n",
    "    \n",
    "    # open API request and collect response\n",
    "    response = urllib.request.urlopen(request)\n",
    "    \n",
    "    # read the response (open file)\n",
    "    json_response = response.read()\n",
    "    # load file as a json\n",
    "    json_result = json.loads(json_response)\n",
    "    \n",
    "    # iterate over json returned and extract related titles in json\n",
    "    # error if topic not found\n",
    "    try:\n",
    "        results = []\n",
    "        for result in json_result['query']['search']:\n",
    "            results.append(result['title'])\n",
    "    except:\n",
    "        results = []\n",
    "        print(\"ERROR: no title found for topic: \" + topic.encode('utf8'))\n",
    "    \n",
    "    # return full list of related titles\n",
    "    return results"
   ]
  },
  {
   "cell_type": "code",
   "execution_count": 14,
   "metadata": {},
   "outputs": [
    {
     "name": "stdout",
     "output_type": "stream",
     "text": [
      "action=query&list=search&srwhat=text&srsearch=git&format=json&srlimit=40\n",
      "b'action=query&list=search&srwhat=text&srsearch=git&format=json&srlimit=40'\n"
     ]
    },
    {
     "data": {
      "text/plain": [
       "['Git',\n",
       " 'GitHub',\n",
       " 'Git!',\n",
       " 'Git Up, Git Out',\n",
       " 'Git (disambiguation)',\n",
       " 'Git (slang)',\n",
       " \"I'm Gonna Git You Sucka\",\n",
       " 'The Git Up',\n",
       " 'The Gits',\n",
       " 'Comparison of Git GUIs',\n",
       " 'Larry the Cable Guy',\n",
       " 'GitLab',\n",
       " 'Bitbucket',\n",
       " 'Virtual File System for Git',\n",
       " 'Blanco Brown',\n",
       " 'Git-annex',\n",
       " 'TortoiseGit',\n",
       " 'Jet Li',\n",
       " 'Cogito (software)',\n",
       " 'Markdown',\n",
       " 'List of Linux kernel names',\n",
       " 'Comparison of operating system kernels',\n",
       " 'Gitter',\n",
       " 'Plastic SCM',\n",
       " 'Facebook',\n",
       " 'Commit (version control)',\n",
       " 'Censorship of GitHub',\n",
       " 'Marcus Brigstocke',\n",
       " 'Git Fresh',\n",
       " 'Git Gay',\n",
       " 'Git Along, Little Dogies',\n",
       " 'Tom Preston-Werner',\n",
       " 'Atom (text editor)',\n",
       " 'Comparison of open-source wireless drivers',\n",
       " 'Spider-Man Unlimited',\n",
       " 'Git It',\n",
       " 'Electron (software framework)',\n",
       " 'Distributed version control',\n",
       " 'Wiki.js',\n",
       " 'David Blaine']"
      ]
     },
     "execution_count": 14,
     "metadata": {},
     "output_type": "execute_result"
    }
   ],
   "source": [
    "get_titles('git')"
   ]
  },
  {
   "cell_type": "markdown",
   "metadata": {},
   "source": [
    "## Graph vis stuff"
   ]
  },
  {
   "cell_type": "code",
   "execution_count": 19,
   "metadata": {},
   "outputs": [],
   "source": [
    "import pygraphviz as pgv\n",
    "from flask import Flask, render_template, request, redirect, url_for\n",
    "\n",
    "def get_graph_string(graph):\n",
    "    #output = StringIO.StringIO()\n",
    "    output = io.BytesIO()\n",
    "    graph.draw(output, format = 'svg')\n",
    "    svg = output.getvalue()\n",
    "    output.close()\n",
    "\n",
    "    svg_parser = etree.XMLParser()\n",
    "    svg_obj = etree.fromstring(svg, svg_parser)\n",
    "\n",
    "    svg_obj.attrib['width'] = '100%'\n",
    "    del svg_obj.attrib['height']\n",
    "\n",
    "    images = svg_obj.findall('.//{http://www.w3.org/2000/svg}image')\n",
    "\n",
    "    # Convert all image href links to match server\n",
    "    # For example, anonymous.png becomes static/images/anonymous.png\n",
    "    # Have to do this because graphviz doesn't allow you to specify the\n",
    "    # URL to an image, only the file path.\n",
    "    for image in images:\n",
    "        image_filename = image.attrib['{http://www.w3.org/1999/xlink}href']\n",
    "        image_url = url_for('static', filename = 'images/' + image_filename)\n",
    "        image.attrib['{http://www.w3.org/1999/xlink}href'] = image_url\n",
    "\n",
    "    return etree.tostring(svg_obj, pretty_print = True).decode('utf-8')\n",
    "\n",
    "def get_image_files():\n",
    "    image_files = []\n",
    "    image_dir = '/home/osboxes/Code/forks/rse-skills-graph/static/images/' #os.environ['GV_FILE_PATH']\n",
    "\n",
    "    for root, sub_folders, files in os.walk(image_dir):\n",
    "        for filename in files:\n",
    "            actual_file_name = os.path.join(root, filename)\n",
    "            if filename.endswith('.png'):\n",
    "                image_files.append(filename)\n",
    "\n",
    "    return image_files\n",
    "\n",
    "def build_graph(name, results, topics):\n",
    "    graph = pgv.AGraph(overlap = 'false', name = name)\n",
    "    people = get_people()\n",
    "\n",
    "    for person in results:\n",
    "        forename, surname = person.lower().split()\n",
    "\n",
    "        image_file = 'anonymous.png'\n",
    "        image_files = get_image_files()\n",
    "\n",
    "        for filename in image_files:\n",
    "            #newstr = starturlsource[index+len(pattern):index+len(pattern)+17]\n",
    "            if str.find(filename, surname) != -1 and str.find(filename, forename) != -1:\n",
    "                image_file = '%s' % (filename)\n",
    "\n",
    "        # check added for _ in name e.g. Anja Le_Blanc; that is: convert _ to space\n",
    "        myperson= person.replace(' ', '\\n')\n",
    "        graph.add_node(person, label = myperson.replace('_' , ' '), fontname = 'Helvetica', fixedsize = True, imagescale = True, width = '1.5', height = '1.5', fontcolor = 'white', shape = 'circle', style = 'filled', color = '#303030', URL = url_for('show_person', name = person), image = image_file)\n",
    "\n",
    "        interests = people[person]['interests']\n",
    "        for interest in interests:\n",
    "            if interest in topics:\n",
    "                color = '#A02020FF'\n",
    "                shape = 'ellipse'\n",
    "            else:\n",
    "                color = '#105060EE'\n",
    "                shape = 'ellipse'\n",
    "\n",
    "            label = re.sub('\\(.*\\)', '', interest)\n",
    "\n",
    "            graph.add_node(interest, label = label, style = 'filled', fontname = 'Helvetica', shape = shape, color = color, fontcolor = 'white', URL = url_for('show_topic', name = interest))\n",
    "            graph.add_edge(person, interest, color = '#00000050')\n",
    "\n",
    "        if 'technologies' in people[person]:\n",
    "            for technology in people[person]['technologies']:\n",
    "                if technology in topics:\n",
    "                    color = '#B01050FF'\n",
    "                    shape = 'ellipse'\n",
    "                else:\n",
    "                    color = '#701050EE'\n",
    "                    shape = 'ellipse'\n",
    "\n",
    "                label = re.sub('\\(.*\\)', '', technology)\n",
    "\n",
    "                graph.add_node(technology, label = label, style = 'filled', fontname = 'Helvetica', shape = shape, color = color, fontcolor = 'white')\n",
    "                graph.add_edge(person, technology, color = '#00000050')\n",
    "\n",
    "    graph.layout(prog = 'neato')\n",
    "\n",
    "    return graph"
   ]
  },
  {
   "cell_type": "code",
   "execution_count": 20,
   "metadata": {},
   "outputs": [
    {
     "ename": "RuntimeError",
     "evalue": "Attempted to generate a URL without the application context being pushed. This has to be executed when application context is available.",
     "output_type": "error",
     "traceback": [
      "\u001b[0;31m---------------------------------------------------------------------------\u001b[0m",
      "\u001b[0;31mRuntimeError\u001b[0m                              Traceback (most recent call last)",
      "\u001b[0;32mrse-skills-graph\u001b[0m in \u001b[0;36m<module>\u001b[0;34m\u001b[0m\n\u001b[0;32m----> 1\u001b[0;31m \u001b[0mbuild_graph\u001b[0m\u001b[0;34m(\u001b[0m\u001b[0mname\u001b[0m\u001b[0;34m=\u001b[0m\u001b[0;34m'Test'\u001b[0m\u001b[0;34m,\u001b[0m \u001b[0mresults\u001b[0m\u001b[0;34m=\u001b[0m\u001b[0;34m[\u001b[0m\u001b[0;34m'Bob Up'\u001b[0m\u001b[0;34m,\u001b[0m\u001b[0;34m'Jane Down'\u001b[0m\u001b[0;34m]\u001b[0m\u001b[0;34m,\u001b[0m \u001b[0mtopics\u001b[0m\u001b[0;34m=\u001b[0m\u001b[0;34m[\u001b[0m\u001b[0;34m'trains'\u001b[0m\u001b[0;34m,\u001b[0m\u001b[0;34m'planes'\u001b[0m\u001b[0;34m]\u001b[0m\u001b[0;34m)\u001b[0m\u001b[0;34m\u001b[0m\u001b[0;34m\u001b[0m\u001b[0m\n\u001b[0m",
      "\u001b[0;32mrse-skills-graph\u001b[0m in \u001b[0;36mbuild_graph\u001b[0;34m(name, results, topics)\u001b[0m\n\u001b[1;32m     57\u001b[0m         \u001b[0;31m# check added for _ in name e.g. Anja Le_Blanc; that is: convert _ to space\u001b[0m\u001b[0;34m\u001b[0m\u001b[0;34m\u001b[0m\u001b[0;34m\u001b[0m\u001b[0m\n\u001b[1;32m     58\u001b[0m         \u001b[0mmyperson\u001b[0m\u001b[0;34m=\u001b[0m \u001b[0mperson\u001b[0m\u001b[0;34m.\u001b[0m\u001b[0mreplace\u001b[0m\u001b[0;34m(\u001b[0m\u001b[0;34m' '\u001b[0m\u001b[0;34m,\u001b[0m \u001b[0;34m'\\n'\u001b[0m\u001b[0;34m)\u001b[0m\u001b[0;34m\u001b[0m\u001b[0;34m\u001b[0m\u001b[0m\n\u001b[0;32m---> 59\u001b[0;31m         \u001b[0mgraph\u001b[0m\u001b[0;34m.\u001b[0m\u001b[0madd_node\u001b[0m\u001b[0;34m(\u001b[0m\u001b[0mperson\u001b[0m\u001b[0;34m,\u001b[0m \u001b[0mlabel\u001b[0m \u001b[0;34m=\u001b[0m \u001b[0mmyperson\u001b[0m\u001b[0;34m.\u001b[0m\u001b[0mreplace\u001b[0m\u001b[0;34m(\u001b[0m\u001b[0;34m'_'\u001b[0m \u001b[0;34m,\u001b[0m \u001b[0;34m' '\u001b[0m\u001b[0;34m)\u001b[0m\u001b[0;34m,\u001b[0m \u001b[0mfontname\u001b[0m \u001b[0;34m=\u001b[0m \u001b[0;34m'Helvetica'\u001b[0m\u001b[0;34m,\u001b[0m \u001b[0mfixedsize\u001b[0m \u001b[0;34m=\u001b[0m \u001b[0;32mTrue\u001b[0m\u001b[0;34m,\u001b[0m \u001b[0mimagescale\u001b[0m \u001b[0;34m=\u001b[0m \u001b[0;32mTrue\u001b[0m\u001b[0;34m,\u001b[0m \u001b[0mwidth\u001b[0m \u001b[0;34m=\u001b[0m \u001b[0;34m'1.5'\u001b[0m\u001b[0;34m,\u001b[0m \u001b[0mheight\u001b[0m \u001b[0;34m=\u001b[0m \u001b[0;34m'1.5'\u001b[0m\u001b[0;34m,\u001b[0m \u001b[0mfontcolor\u001b[0m \u001b[0;34m=\u001b[0m \u001b[0;34m'white'\u001b[0m\u001b[0;34m,\u001b[0m \u001b[0mshape\u001b[0m \u001b[0;34m=\u001b[0m \u001b[0;34m'circle'\u001b[0m\u001b[0;34m,\u001b[0m \u001b[0mstyle\u001b[0m \u001b[0;34m=\u001b[0m \u001b[0;34m'filled'\u001b[0m\u001b[0;34m,\u001b[0m \u001b[0mcolor\u001b[0m \u001b[0;34m=\u001b[0m \u001b[0;34m'#303030'\u001b[0m\u001b[0;34m,\u001b[0m \u001b[0mURL\u001b[0m \u001b[0;34m=\u001b[0m \u001b[0murl_for\u001b[0m\u001b[0;34m(\u001b[0m\u001b[0;34m'show_person'\u001b[0m\u001b[0;34m,\u001b[0m \u001b[0mname\u001b[0m \u001b[0;34m=\u001b[0m \u001b[0mperson\u001b[0m\u001b[0;34m)\u001b[0m\u001b[0;34m,\u001b[0m \u001b[0mimage\u001b[0m \u001b[0;34m=\u001b[0m \u001b[0mimage_file\u001b[0m\u001b[0;34m)\u001b[0m\u001b[0;34m\u001b[0m\u001b[0;34m\u001b[0m\u001b[0m\n\u001b[0m\u001b[1;32m     60\u001b[0m \u001b[0;34m\u001b[0m\u001b[0m\n\u001b[1;32m     61\u001b[0m         \u001b[0minterests\u001b[0m \u001b[0;34m=\u001b[0m \u001b[0mpeople\u001b[0m\u001b[0;34m[\u001b[0m\u001b[0mperson\u001b[0m\u001b[0;34m]\u001b[0m\u001b[0;34m[\u001b[0m\u001b[0;34m'interests'\u001b[0m\u001b[0;34m]\u001b[0m\u001b[0;34m\u001b[0m\u001b[0;34m\u001b[0m\u001b[0m\n",
      "\u001b[0;32m~/anaconda3/envs/rse-graph/lib/python3.6/site-packages/flask/helpers.py\u001b[0m in \u001b[0;36murl_for\u001b[0;34m(endpoint, **values)\u001b[0m\n\u001b[1;32m    292\u001b[0m     \u001b[0;32mif\u001b[0m \u001b[0mappctx\u001b[0m \u001b[0;32mis\u001b[0m \u001b[0;32mNone\u001b[0m\u001b[0;34m:\u001b[0m\u001b[0;34m\u001b[0m\u001b[0;34m\u001b[0m\u001b[0m\n\u001b[1;32m    293\u001b[0m         raise RuntimeError(\n\u001b[0;32m--> 294\u001b[0;31m             \u001b[0;34m'Attempted to generate a URL without the application context being'\u001b[0m\u001b[0;34m\u001b[0m\u001b[0;34m\u001b[0m\u001b[0m\n\u001b[0m\u001b[1;32m    295\u001b[0m             \u001b[0;34m' pushed. This has to be executed when application context is'\u001b[0m\u001b[0;34m\u001b[0m\u001b[0;34m\u001b[0m\u001b[0m\n\u001b[1;32m    296\u001b[0m             \u001b[0;34m' available.'\u001b[0m\u001b[0;34m\u001b[0m\u001b[0;34m\u001b[0m\u001b[0m\n",
      "\u001b[0;31mRuntimeError\u001b[0m: Attempted to generate a URL without the application context being pushed. This has to be executed when application context is available."
     ]
    }
   ],
   "source": [
    "build_graph(name='Test', results=['Bob Up','Jane Down'], topics=['trains','planes'])"
   ]
  },
  {
   "cell_type": "code",
   "execution_count": 21,
   "metadata": {},
   "outputs": [
    {
     "data": {
      "text/plain": [
       "['anonymous.png']"
      ]
     },
     "execution_count": 21,
     "metadata": {},
     "output_type": "execute_result"
    }
   ],
   "source": [
    "get_image_files()"
   ]
  },
  {
   "cell_type": "code",
   "execution_count": null,
   "metadata": {},
   "outputs": [],
   "source": []
  }
 ],
 "metadata": {
  "kernelspec": {
   "display_name": "Python 3",
   "language": "python",
   "name": "python3"
  },
  "language_info": {
   "codemirror_mode": {
    "name": "ipython",
    "version": 3
   },
   "file_extension": ".py",
   "mimetype": "text/x-python",
   "name": "python",
   "nbconvert_exporter": "python",
   "pygments_lexer": "ipython3",
   "version": "3.6.10"
  }
 },
 "nbformat": 4,
 "nbformat_minor": 4
}
